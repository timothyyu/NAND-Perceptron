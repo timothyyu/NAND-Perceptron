{
 "cells": [
  {
   "cell_type": "code",
   "execution_count": 1,
   "metadata": {},
   "outputs": [],
   "source": [
    "import numpy as np\n",
    "import matplotlib.pyplot as plt\n",
    "from past.builtins import xrange"
   ]
  },
  {
   "cell_type": "code",
   "execution_count": 134,
   "metadata": {},
   "outputs": [],
   "source": [
    "# NAND gate features\n",
    "# note: x0 is a dummy variable for the bias term\n",
    "#     x0  x1  x2\n",
    "x = [[1., 0., 0.],                                  \n",
    "     [1., 0., 1.],                                 \n",
    "     [1., 1., 0.],                                  \n",
    "     [1., 1., 1.]] \n",
    "\n",
    "# Desired outputs\n",
    "y = [1.,                                            \n",
    "     1.,                                            \n",
    "     1.,                                            \n",
    "     0.]\n",
    "\n",
    "# // ---- STATE RECAP ----\n",
    "# // NAND Gate + X0 Bias and Y-true\n",
    "# // X0   // X1   // X2   // Y\n",
    "# // 1    // 0    // 0    // 1\n",
    "# // 1    // 0    // 1    // 1\n",
    "# // 1    // 1    // 0    // 1\n",
    "# // 1    // 1    // 1    // 0"
   ]
  },
  {
   "cell_type": "code",
   "execution_count": 135,
   "metadata": {},
   "outputs": [],
   "source": [
    "def f_activation(F,z):\n",
    "    if F > z:                               \n",
    "        yhat = 1.                               \n",
    "    else:                                   \n",
    "        yhat = 0. \n",
    "    return yhat"
   ]
  },
  {
   "cell_type": "code",
   "execution_count": 149,
   "metadata": {},
   "outputs": [],
   "source": [
    "# eta - learning rate\n",
    "# t - iterations\n",
    "# z - threshold for activation function\n",
    "eta = 0.1 \n",
    "t = 50\n",
    "z = 0 "
   ]
  },
  {
   "cell_type": "code",
   "execution_count": 154,
   "metadata": {},
   "outputs": [
    {
     "data": {
      "text/plain": [
       "array([0., 0., 0.])"
      ]
     },
     "execution_count": 154,
     "metadata": {},
     "output_type": "execute_result"
    }
   ],
   "source": [
    "# initalize weight vector with all zeros\n",
    "w = np.zeros(len(x[0]))        # weights\n",
    "w"
   ]
  },
  {
   "cell_type": "code",
   "execution_count": 155,
   "metadata": {},
   "outputs": [
    {
     "name": "stdout",
     "output_type": "stream",
     "text": [
      "X0,X1,X2\n",
      "1.0 0.0 0.0\n",
      "1.0 0.0 1.0\n",
      "1.0 1.0 0.0\n",
      "1.0 1.0 1.0\n",
      "Y\n",
      "1.0\n",
      "1.0\n",
      "1.0\n",
      "0.0\n"
     ]
    }
   ],
   "source": [
    "A0 = 1.0\n",
    "A1 = 0.0\n",
    "A2 = 0.0\n",
    "\n",
    "B0 = 1.0\n",
    "B1 = 0.0\n",
    "B2 = 1.0\n",
    "\n",
    "C0 = 1.0\n",
    "C1 = 1.0\n",
    "C2 = 0.0\n",
    "\n",
    "D0 = 1.0\n",
    "D1 = 1.0\n",
    "D2 = 1.0\n",
    "\n",
    "print(\"X0,X1,X2\")\n",
    "print(A0,A1,A2)\n",
    "print(B0,B1,B2)\n",
    "print(C0,C1,C2)\n",
    "print(D0,D1,D2)\n",
    "\n",
    "print(\"Y\")\n",
    "print(A3)\n",
    "print(B3)\n",
    "print(C3)\n",
    "print(D3)"
   ]
  },
  {
   "cell_type": "code",
   "execution_count": 164,
   "metadata": {},
   "outputs": [
    {
     "data": {
      "text/plain": [
       "(1.0, 1.0, 1.0, 0.0)"
      ]
     },
     "execution_count": 164,
     "metadata": {},
     "output_type": "execute_result"
    }
   ],
   "source": [
    "W0 = w[0]\n",
    "W1 = w[1]\n",
    "W2 = w[2]\n",
    "A3 = y[0]\n",
    "B3 = y[1]\n",
    "C3 = y[2]\n",
    "D3 = y[3]\n",
    "A3,B3,C3,D3"
   ]
  },
  {
   "cell_type": "code",
   "execution_count": 165,
   "metadata": {},
   "outputs": [
    {
     "name": "stdout",
     "output_type": "stream",
     "text": [
      "0.0 0.0 False\n"
     ]
    }
   ],
   "source": [
    "#ts1e1\n",
    "# Dot product of the weight vector and the first row of features\n",
    "F0 = (W0*A0) + (W1*A1) + (W2+A2)\n",
    "yhatA = f_activation(F0,z)\n",
    "match = yhatA == A3\n",
    "print(F0,yhatA,match)"
   ]
  },
  {
   "cell_type": "code",
   "execution_count": 166,
   "metadata": {},
   "outputs": [
    {
     "name": "stdout",
     "output_type": "stream",
     "text": [
      "0.1\n",
      "0.0\n",
      "0.0\n"
     ]
    }
   ],
   "source": [
    "# y-pred false; update weights\n",
    "W0 = W0 + eta * (A3 - yhatA) * A0\n",
    "W1 = W1 + eta * (A3 - yhatA) * A1\n",
    "W2 = W2 + eta * (A3 - yhatA) * A2  \n",
    "\n",
    "print(W0)\n",
    "print(W1)\n",
    "print(W2)"
   ]
  },
  {
   "cell_type": "code",
   "execution_count": 167,
   "metadata": {},
   "outputs": [
    {
     "data": {
      "text/plain": [
       "0.1"
      ]
     },
     "execution_count": 167,
     "metadata": {},
     "output_type": "execute_result"
    }
   ],
   "source": [
    "F1_test = np.dot(x[1], [W0,W1,W2])\n",
    "F1_test"
   ]
  },
  {
   "cell_type": "code",
   "execution_count": 168,
   "metadata": {},
   "outputs": [
    {
     "data": {
      "text/plain": [
       "0.1"
      ]
     },
     "execution_count": 168,
     "metadata": {},
     "output_type": "execute_result"
    }
   ],
   "source": [
    "F1 = (W0*B0) + (W1*B1) + (W2*B2)\n",
    "F1"
   ]
  },
  {
   "cell_type": "code",
   "execution_count": 169,
   "metadata": {},
   "outputs": [
    {
     "data": {
      "text/plain": [
       "1.1"
      ]
     },
     "execution_count": 169,
     "metadata": {},
     "output_type": "execute_result"
    }
   ],
   "source": [
    "F1_wrong = (W0*B0) + (W1*B1) + (W2+B2)\n",
    "F1_wrong\n",
    "# .............."
   ]
  },
  {
   "cell_type": "code",
   "execution_count": 147,
   "metadata": {},
   "outputs": [
    {
     "name": "stdout",
     "output_type": "stream",
     "text": [
      "1.1 1.0 False\n"
     ]
    }
   ],
   "source": [
    "F1 = (W0*B0) + (W1*B1) + (W2+B2)\n",
    "yhatB = f_activation(F1,z)\n",
    "matchB = yhatB == B3\n",
    "print(F1, yhatB,match)"
   ]
  },
  {
   "cell_type": "code",
   "execution_count": 148,
   "metadata": {},
   "outputs": [
    {
     "name": "stdout",
     "output_type": "stream",
     "text": [
      "0.1 1.0\n"
     ]
    },
    {
     "data": {
      "text/plain": [
       "0.1"
      ]
     },
     "execution_count": 148,
     "metadata": {},
     "output_type": "execute_result"
    }
   ],
   "source": [
    "F2 = (W0*C0) + (W1*C1) + (W2+C2)\n",
    "yhatC = f_activation(F2,z)\n",
    "matchC = yhatC == C3\n",
    "print(F2, yhatC)\n",
    "F2"
   ]
  },
  {
   "cell_type": "code",
   "execution_count": 106,
   "metadata": {},
   "outputs": [
    {
     "data": {
      "text/plain": [
       "1.0"
      ]
     },
     "execution_count": 106,
     "metadata": {},
     "output_type": "execute_result"
    }
   ],
   "source": [
    "F3 = (W0*D0) + (W1*D1) + (W2+D2)\n",
    "yhatD = f_activation(F3,z)\n",
    "matchD = yhatD == D3\n",
    "print(F3, yhatD)\n"
   ]
  },
  {
   "cell_type": "code",
   "execution_count": 170,
   "metadata": {},
   "outputs": [
    {
     "ename": "NameError",
     "evalue": "name 'yhat_vec' is not defined",
     "output_type": "error",
     "traceback": [
      "\u001b[1;31m---------------------------------------------------------------------------\u001b[0m",
      "\u001b[1;31mNameError\u001b[0m                                 Traceback (most recent call last)",
      "\u001b[1;32m<ipython-input-170-0bab45e5f952>\u001b[0m in \u001b[0;36m<module>\u001b[1;34m\u001b[0m\n\u001b[0;32m      1\u001b[0m \u001b[1;32mfor\u001b[0m \u001b[0mi\u001b[0m \u001b[1;32min\u001b[0m \u001b[0mxrange\u001b[0m\u001b[1;33m(\u001b[0m\u001b[1;36m0\u001b[0m\u001b[1;33m,\u001b[0m\u001b[0mlen\u001b[0m\u001b[1;33m(\u001b[0m\u001b[0my\u001b[0m\u001b[1;33m)\u001b[0m\u001b[1;33m)\u001b[0m\u001b[1;33m:\u001b[0m\u001b[1;33m\u001b[0m\u001b[1;33m\u001b[0m\u001b[0m\n\u001b[1;32m----> 2\u001b[1;33m     \u001b[0merrors\u001b[0m\u001b[1;33m[\u001b[0m\u001b[0mi\u001b[0m\u001b[1;33m]\u001b[0m \u001b[1;33m=\u001b[0m \u001b[1;33m(\u001b[0m\u001b[0my\u001b[0m\u001b[1;33m[\u001b[0m\u001b[0mi\u001b[0m\u001b[1;33m]\u001b[0m\u001b[1;33m-\u001b[0m\u001b[0myhat_vec\u001b[0m\u001b[1;33m[\u001b[0m\u001b[0mi\u001b[0m\u001b[1;33m]\u001b[0m\u001b[1;33m)\u001b[0m\u001b[1;33m**\u001b[0m\u001b[1;36m2\u001b[0m\u001b[1;33m\u001b[0m\u001b[1;33m\u001b[0m\u001b[0m\n\u001b[0m",
      "\u001b[1;31mNameError\u001b[0m: name 'yhat_vec' is not defined"
     ]
    }
   ],
   "source": [
    "for i in xrange(0,len(y)):     \n",
    "    errors[i] = (y[i]-yhat_vec[i])**2"
   ]
  },
  {
   "cell_type": "code",
   "execution_count": 108,
   "metadata": {},
   "outputs": [
    {
     "data": {
      "text/plain": [
       "1.0"
      ]
     },
     "execution_count": 108,
     "metadata": {},
     "output_type": "execute_result"
    }
   ],
   "source": []
  },
  {
   "cell_type": "code",
   "execution_count": null,
   "metadata": {},
   "outputs": [],
   "source": []
  },
  {
   "cell_type": "code",
   "execution_count": 132,
   "metadata": {},
   "outputs": [
    {
     "name": "stdout",
     "output_type": "stream",
     "text": [
      "0.0\n",
      "0.0\n",
      "0.0\n",
      "0.0\n"
     ]
    }
   ],
   "source": [
    "for i in xrange(0, len(x)):                      \n",
    "    # summation step\n",
    "    f = np.dot(x[i], w)\n",
    "    print(f)"
   ]
  },
  {
   "cell_type": "code",
   "execution_count": 115,
   "metadata": {},
   "outputs": [
    {
     "data": {
      "text/plain": [
       "array([0., 0., 0.])"
      ]
     },
     "execution_count": 115,
     "metadata": {},
     "output_type": "execute_result"
    }
   ],
   "source": [
    "# weight vector\n",
    "w"
   ]
  },
  {
   "cell_type": "code",
   "execution_count": null,
   "metadata": {},
   "outputs": [],
   "source": []
  },
  {
   "cell_type": "code",
   "execution_count": null,
   "metadata": {},
   "outputs": [],
   "source": []
  },
  {
   "cell_type": "code",
   "execution_count": null,
   "metadata": {},
   "outputs": [],
   "source": []
  }
 ],
 "metadata": {
  "kernelspec": {
   "display_name": "Python 3",
   "language": "python",
   "name": "python3"
  },
  "language_info": {
   "codemirror_mode": {
    "name": "ipython",
    "version": 3
   },
   "file_extension": ".py",
   "mimetype": "text/x-python",
   "name": "python",
   "nbconvert_exporter": "python",
   "pygments_lexer": "ipython3",
   "version": "3.7.4"
  }
 },
 "nbformat": 4,
 "nbformat_minor": 4
}
